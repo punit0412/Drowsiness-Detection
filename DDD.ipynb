{
 "cells": [
  {
   "cell_type": "code",
   "id": "initial_id",
   "metadata": {
    "collapsed": true,
    "ExecuteTime": {
     "end_time": "2024-05-07T17:40:56.310609Z",
     "start_time": "2024-05-07T17:40:46.746844Z"
    }
   },
   "source": [
    "import os\n",
    "import pandas as pd\n",
    "import numpy as np\n",
    "import matplotlib.pyplot as  plt\n",
    "import tensorflow as tf\n",
    "from tensorflow import keras\n",
    "from sklearn.metrics import confusion_matrix\n",
    "from sklearn.metrics import classification_report\n",
    "import seaborn as sns\n",
    "tf.random.set_seed(3)\n",
    "from tensorflow.keras.preprocessing.image import ImageDataGenerator\n",
    "from tensorflow.keras.optimizers import Adam\n",
    "from tensorflow.keras.losses import SparseCategoricalCrossentropy\n",
    "from tensorflow.keras.applications import MobileNetV2\n",
    "from tensorflow.keras.layers import Dense, Flatten\n",
    "from tensorflow.keras.models import Model\n",
    "from tensorflow.keras.optimizers import Adam, SGD\n",
    "from collections import Counter"
   ],
   "outputs": [],
   "execution_count": 1
  },
  {
   "metadata": {
    "ExecuteTime": {
     "end_time": "2024-05-07T17:40:56.325654Z",
     "start_time": "2024-05-07T17:40:56.312623Z"
    }
   },
   "cell_type": "code",
   "source": "tf.__version__",
   "id": "95c2a7edc2779366",
   "outputs": [
    {
     "data": {
      "text/plain": [
       "'2.11.0'"
      ]
     },
     "execution_count": 2,
     "metadata": {},
     "output_type": "execute_result"
    }
   ],
   "execution_count": 2
  },
  {
   "metadata": {
    "jupyter": {
     "is_executing": true
    },
    "ExecuteTime": {
     "start_time": "2024-05-07T17:40:56.329646Z"
    }
   },
   "cell_type": "code",
   "source": [
    "import splitfolders\n",
    "\n",
    "data_dir = r\"D:\\Research Internship\\DrowsinnessDetection\\DD\"\n",
    "output_dir = r\"D:\\Research Internship\\DrowsinnessDetection\\splitted_Data\"\n",
    "splitfolders.ratio(data_dir, output=output_dir, seed=1337, ratio=(.8, 0.15, 0.05))"
   ],
   "id": "8e67e93fb8c7f43a",
   "outputs": [
    {
     "name": "stderr",
     "output_type": "stream",
     "text": [
      "Copying files: 1989 files [01:25, 32.44 files/s]"
     ]
    }
   ],
   "execution_count": null
  },
  {
   "metadata": {
    "jupyter": {
     "is_executing": true
    }
   },
   "cell_type": "code",
   "source": [
    "train_dir = r\"D:\\Research Internship\\DrowsinnessDetection\\splitted_Data\\train\"\n",
    "test_dir = r\"D:\\Research Internship\\DrowsinnessDetection\\splitted_Data\\test\"\n",
    "val_dir = r\"D:\\Research Internship\\DrowsinnessDetection\\splitted_Data\\val\""
   ],
   "id": "de59de0e17ec6eb",
   "outputs": [],
   "execution_count": null
  },
  {
   "metadata": {
    "jupyter": {
     "is_executing": true
    }
   },
   "cell_type": "code",
   "source": [
    "train_datagen = ImageDataGenerator(rescale=1./255)\n",
    "test_datagen = ImageDataGenerator(rescale=1./255)\n",
    "val_datagen = ImageDataGenerator(rescale=1./255)"
   ],
   "id": "abe8f2c849027fc4",
   "outputs": [],
   "execution_count": null
  },
  {
   "metadata": {
    "jupyter": {
     "is_executing": true
    }
   },
   "cell_type": "code",
   "source": [
    "train_batches = train_datagen.flow_from_directory(\n",
    "    train_dir,\n",
    "    target_size=(224, 224),\n",
    "    batch_size=16,\n",
    "    class_mode='binary',\n",
    "    shuffle=True\n",
    ")"
   ],
   "id": "b3060b14d1afe454",
   "outputs": [],
   "execution_count": null
  },
  {
   "metadata": {
    "jupyter": {
     "is_executing": true
    }
   },
   "cell_type": "code",
   "source": [
    "test_batches = test_datagen.flow_from_directory(\n",
    "    test_dir,\n",
    "    target_size=(224, 224),\n",
    "    batch_size=16,\n",
    "    class_mode='binary' ,\n",
    "    shuffle=True\n",
    ")"
   ],
   "id": "9bb4c1986f8f1637",
   "outputs": [],
   "execution_count": null
  },
  {
   "metadata": {
    "jupyter": {
     "is_executing": true
    }
   },
   "cell_type": "code",
   "source": [
    "val_batches = val_datagen.flow_from_directory(\n",
    "    val_dir,\n",
    "    target_size=(224, 224),\n",
    "    batch_size=16,\n",
    "    class_mode='binary',\n",
    "    shuffle=True\n",
    ")"
   ],
   "id": "a07e70e2df719b54",
   "outputs": [],
   "execution_count": null
  },
  {
   "metadata": {
    "jupyter": {
     "is_executing": true
    }
   },
   "cell_type": "code",
   "source": [
    "train_class_indices = train_batches.class_indices\n",
    "test_class_indices = test_batches.class_indices\n",
    "val_class_indices = val_batches.class_indices\n",
    "\n",
    "train_class_labels = train_batches.classes\n",
    "test_class_labels = test_batches.classes\n",
    "val_class_labels = val_batches.classes\n",
    "\n",
    "\n",
    "train_class_counts = Counter(train_class_labels)\n",
    "test_class_counts = Counter(test_class_labels)\n",
    "val_class_counts = Counter(val_class_labels)\n",
    "\n",
    "print(\"Class Names for train:\\n\", train_class_indices)\n",
    "print(\"Class Counts for train:\\n\", train_class_counts)\n",
    "print(end='\\n')\n",
    "\n",
    "print(\"Class Names for test:\\n\", test_class_indices)\n",
    "print(\"Class Counts for test:\\n\", test_class_counts)\n",
    "print(end='\\n')\n",
    "\n",
    "print(\"Class Names for validation :\\n\", val_class_indices)\n",
    "print(\"Class Counts for validation:\\n\", val_class_counts)"
   ],
   "id": "f001802c779a4b35",
   "outputs": [],
   "execution_count": null
  },
  {
   "metadata": {
    "jupyter": {
     "is_executing": true
    }
   },
   "cell_type": "code",
   "source": [
    "images, labels = next(train_batches)\n",
    "print(f\"Pixels of the first image after Normalization: \\n\\n{images[0]}\") #print pixels of the first img\n",
    "plt.imshow(images[0])\n",
    "plt.show()"
   ],
   "id": "5a1e1b383287d1b1",
   "outputs": [],
   "execution_count": null
  },
  {
   "metadata": {
    "jupyter": {
     "is_executing": true
    }
   },
   "cell_type": "code",
   "source": [
    "print(f\"there are { images[0].ndim} Channels \")\n",
    "print(f\"image shape : {images[0].shape}\")"
   ],
   "id": "10641eae2a9c9c95",
   "outputs": [],
   "execution_count": null
  },
  {
   "metadata": {
    "jupyter": {
     "is_executing": true
    }
   },
   "cell_type": "code",
   "source": [
    "fig, axes = plt.subplots(8, 4, figsize=(15, 30))\n",
    "class_indices = train_batches.class_indices\n",
    "\n",
    "for i in range(8):\n",
    "    images, labels = next(train_batches)\n",
    "    for j in range(4):\n",
    "\n",
    "        ax = axes[i, j]\n",
    "        ax.imshow(images[j])\n",
    "        ax.axis('off')\n",
    "        label = int(labels[j])\n",
    "        label_name = list(class_indices.keys())[list(class_indices.values()).index(label)]\n",
    "        ax.set_title(f'{label_name} ({label})')\n",
    "\n",
    "plt.tight_layout()\n",
    "plt.show()"
   ],
   "id": "16bac8febc9bc808",
   "outputs": [],
   "execution_count": null
  },
  {
   "metadata": {
    "jupyter": {
     "is_executing": true
    }
   },
   "cell_type": "code",
   "source": [
    "base_model = MobileNetV2(\n",
    "    weights='imagenet',\n",
    "    include_top=False,\n",
    "    input_shape=(224, 224, 3),\n",
    ")"
   ],
   "id": "aa661bbfdf4c33c7",
   "outputs": [],
   "execution_count": null
  },
  {
   "metadata": {
    "jupyter": {
     "is_executing": true
    }
   },
   "cell_type": "code",
   "source": "type(base_model)",
   "id": "9b3759b5ea3cdc4d",
   "outputs": [],
   "execution_count": null
  },
  {
   "metadata": {
    "jupyter": {
     "is_executing": true
    }
   },
   "cell_type": "code",
   "source": "base_model.summary()",
   "id": "68fdf5a920227a76",
   "outputs": [],
   "execution_count": null
  },
  {
   "metadata": {
    "jupyter": {
     "is_executing": true
    }
   },
   "cell_type": "code",
   "source": "model=keras.Sequential()",
   "id": "9ffbfde59a676442",
   "outputs": [],
   "execution_count": null
  },
  {
   "metadata": {
    "jupyter": {
     "is_executing": true
    }
   },
   "cell_type": "code",
   "source": [
    "for layer in base_model.layers[:-25] :\n",
    "    layer.trainable = False"
   ],
   "id": "8f682898d7fe4a5",
   "outputs": [],
   "execution_count": null
  },
  {
   "metadata": {
    "jupyter": {
     "is_executing": true
    }
   },
   "cell_type": "code",
   "source": [
    "x = base_model.output\n",
    "x = Flatten()(x)\n",
    "x = Dense(1024, activation='relu')(x)\n",
    "x = Dense(512, activation='relu')(x)\n",
    "predictions = Dense(2, activation='softmax')(x)"
   ],
   "id": "728d16aba0c2570c",
   "outputs": [],
   "execution_count": null
  },
  {
   "metadata": {
    "jupyter": {
     "is_executing": true
    }
   },
   "cell_type": "code",
   "source": "model = Model(inputs=base_model.input, outputs=predictions)",
   "id": "54a9a258d08eebdb",
   "outputs": [],
   "execution_count": null
  },
  {
   "metadata": {
    "jupyter": {
     "is_executing": true
    }
   },
   "cell_type": "code",
   "source": "model.summary()",
   "id": "1343c9b15bc54a44",
   "outputs": [],
   "execution_count": null
  },
  {
   "metadata": {
    "jupyter": {
     "is_executing": true
    }
   },
   "cell_type": "code",
   "source": "model.compile(optimizer=Adam(0.0001 ), loss='sparse_categorical_crossentropy', metrics=['accuracy'])",
   "id": "6de92648de6728f2",
   "outputs": [],
   "execution_count": null
  },
  {
   "metadata": {
    "jupyter": {
     "is_executing": true
    },
    "ExecuteTime": {
     "start_time": "2024-05-01T20:41:47.395139Z"
    }
   },
   "cell_type": "code",
   "source": [
    "history = model.fit(\n",
    "    train_batches,\n",
    "    epochs=10,\n",
    "    validation_data=val_batches,\n",
    "    batch_size=32\n",
    ")"
   ],
   "id": "bbe103337a601ada",
   "outputs": [
    {
     "name": "stdout",
     "output_type": "stream",
     "text": [
      "Epoch 1/10\n",
      "2090/2090 [==============================] - 2610s 1s/step - loss: 0.0292 - accuracy: 0.9938 - val_loss: 0.0081 - val_accuracy: 0.9984\n",
      "Epoch 2/10\n",
      "2090/2090 [==============================] - 2334s 1s/step - loss: 0.0086 - accuracy: 0.9989 - val_loss: 0.0424 - val_accuracy: 0.9877\n",
      "Epoch 3/10\n",
      "2090/2090 [==============================] - 2311s 1s/step - loss: 0.0130 - accuracy: 0.9980 - val_loss: 0.0019 - val_accuracy: 0.9997\n",
      "Epoch 4/10\n",
      "2090/2090 [==============================] - 2395s 1s/step - loss: 0.0106 - accuracy: 0.9987 - val_loss: 0.0045 - val_accuracy: 0.9994\n",
      "Epoch 5/10\n",
      "2090/2090 [==============================] - 19619s 9s/step - loss: 0.0016 - accuracy: 0.9997 - val_loss: 0.0014 - val_accuracy: 0.9998\n",
      "Epoch 6/10\n",
      "2090/2090 [==============================] - 2349s 1s/step - loss: 0.0043 - accuracy: 0.9994 - val_loss: 0.0438 - val_accuracy: 0.9974\n",
      "Epoch 7/10\n",
      "2090/2090 [==============================] - 2430s 1s/step - loss: 0.0069 - accuracy: 0.9993 - val_loss: 0.0033 - val_accuracy: 0.9998\n",
      "Epoch 8/10\n",
      "2090/2090 [==============================] - 3382s 2s/step - loss: 7.1443e-04 - accuracy: 0.9999 - val_loss: 0.0023 - val_accuracy: 0.9998\n",
      "Epoch 9/10\n",
      "2090/2090 [==============================] - 2963s 1s/step - loss: 1.3188e-06 - accuracy: 1.0000 - val_loss: 0.0028 - val_accuracy: 0.9998\n",
      "Epoch 10/10\n",
      "2090/2090 [==============================] - 2457s 1s/step - loss: 3.0141e-08 - accuracy: 1.0000 - val_loss: 0.0029 - val_accuracy: 0.9998\n"
     ]
    }
   ],
   "execution_count": null
  },
  {
   "metadata": {
    "ExecuteTime": {
     "end_time": "2024-05-02T09:00:55.274341Z",
     "start_time": "2024-05-02T09:00:49.273574Z"
    }
   },
   "cell_type": "code",
   "source": "# model.save(\"D:\\Machine Learning\\Projects\\ResearchInternship\\DDD.h5\")",
   "id": "4d1b77083a589d30",
   "outputs": [],
   "execution_count": 25
  },
  {
   "metadata": {
    "jupyter": {
     "is_executing": true
    }
   },
   "cell_type": "code",
   "source": "model = load_model(\"D:\\Machine Learning\\Projects\\ResearchInternship\\DDD.h5\")",
   "id": "49b75cc4d3d546d5",
   "outputs": [],
   "execution_count": null
  },
  {
   "metadata": {
    "jupyter": {
     "is_executing": true
    }
   },
   "cell_type": "code",
   "source": [
    "pd.DataFrame(history.history).plot(figsize = (12,10))\n",
    "plt.xlabel(\"Epoch\")\n",
    "plt.ylabel(\"Accuracy and loss\")\n",
    "plt.show()"
   ],
   "id": "8cdfb6e4a383d89d",
   "outputs": [],
   "execution_count": null
  },
  {
   "metadata": {
    "jupyter": {
     "is_executing": true
    }
   },
   "cell_type": "code",
   "source": "pd.DataFrame(history.history)",
   "id": "4f1498472d528406",
   "outputs": [],
   "execution_count": null
  },
  {
   "metadata": {
    "jupyter": {
     "is_executing": true
    }
   },
   "cell_type": "code",
   "source": "tf.keras.utils.plot_model(model, show_shapes=True)",
   "id": "1082fd751dc26ace",
   "outputs": [],
   "execution_count": null
  },
  {
   "metadata": {
    "jupyter": {
     "is_executing": true
    }
   },
   "cell_type": "code",
   "source": [
    "loss, accuracy = model.evaluate(train_batches)\n",
    "print(f\"Training Loss: {loss:.4f}\")\n",
    "print(f\"Training Accuracy: {accuracy*100:.2f}%\")"
   ],
   "id": "95ea7bad9fd16f74",
   "outputs": [],
   "execution_count": null
  },
  {
   "metadata": {
    "jupyter": {
     "is_executing": true
    }
   },
   "cell_type": "code",
   "source": "",
   "id": "69d76a09d5d81587",
   "outputs": [],
   "execution_count": null
  },
  {
   "metadata": {
    "jupyter": {
     "is_executing": true
    }
   },
   "cell_type": "code",
   "source": [
    "loss, accuracy = model.evaluate(test_batches)\n",
    "\n",
    "print(f\"Test Loss: {loss:.4f}\")\n",
    "print(f\"Test Accuracy: {accuracy*100:.2f}%\")"
   ],
   "id": "fa6e7a628518fc7a",
   "outputs": [],
   "execution_count": null
  },
  {
   "metadata": {
    "jupyter": {
     "is_executing": true
    }
   },
   "cell_type": "code",
   "source": [
    "\n",
    "\n",
    "y_pred = model.predict(test_batches)\n",
    "y_pred"
   ],
   "id": "a397c700f002af8e",
   "outputs": [],
   "execution_count": null
  },
  {
   "metadata": {
    "jupyter": {
     "is_executing": true
    }
   },
   "cell_type": "code",
   "source": [
    "y_pred_labels = np.argmax(y_pred, axis=1)\n",
    "y_pred_labels"
   ],
   "id": "ac3ee34207d3d204",
   "outputs": [],
   "execution_count": null
  },
  {
   "metadata": {
    "jupyter": {
     "is_executing": true
    }
   },
   "cell_type": "code",
   "source": [
    "y_actual = test_batches.labels\n",
    "y_actual"
   ],
   "id": "b9c557831cfdb5ce",
   "outputs": [],
   "execution_count": null
  },
  {
   "metadata": {
    "jupyter": {
     "is_executing": true
    }
   },
   "cell_type": "code",
   "source": [
    "conf_matrix = confusion_matrix(y_actual, y_pred_labels)\n",
    "\n",
    "print(conf_matrix)"
   ],
   "id": "8af641551e4b2bd9",
   "outputs": [],
   "execution_count": null
  },
  {
   "metadata": {
    "jupyter": {
     "is_executing": true
    }
   },
   "cell_type": "code",
   "source": [
    "plt.figure(figsize=(8, 6))\n",
    "sns.heatmap(conf_matrix, annot=True, fmt='d', cmap='bone',\n",
    "            xticklabels=['Class 0', 'Class 1'],\n",
    "            yticklabels=['Class 0', 'Class 1'])\n",
    "plt.xlabel('Predicted')\n",
    "plt.ylabel('Actual')\n",
    "plt.title('Confusion Matrix')\n",
    "plt.show()"
   ],
   "id": "6788de6d84660fbe",
   "outputs": [],
   "execution_count": null
  },
  {
   "metadata": {
    "jupyter": {
     "is_executing": true
    }
   },
   "cell_type": "code",
   "source": [
    "\n",
    "\n",
    "report = classification_report(y_actual, y_pred_labels)\n",
    "print(report)\n",
    "\n"
   ],
   "id": "e765aa93d9799cdb",
   "outputs": [],
   "execution_count": null
  },
  {
   "metadata": {
    "jupyter": {
     "is_executing": true
    }
   },
   "cell_type": "code",
   "source": [
    "import visualkeras\n",
    "from keras.models import  load_model\n",
    "model = load_model(\"D:\\Machine Learning\\Projects\\ResearchInternship\\DDD.h5\")"
   ],
   "id": "bfbc0888e46a2e",
   "outputs": [],
   "execution_count": null
  },
  {
   "metadata": {
    "jupyter": {
     "is_executing": true
    }
   },
   "cell_type": "code",
   "source": [
    "visualkeras.layered_view(model).show()\n",
    "visualkeras.layered_view(model,legend=True)"
   ],
   "id": "7b604268fbedf0e0",
   "outputs": [],
   "execution_count": null
  },
  {
   "metadata": {},
   "cell_type": "code",
   "outputs": [],
   "execution_count": null,
   "source": "",
   "id": "9cb611bcfbb65aa2"
  }
 ],
 "metadata": {
  "kernelspec": {
   "display_name": "Python 3",
   "language": "python",
   "name": "python3"
  },
  "language_info": {
   "codemirror_mode": {
    "name": "ipython",
    "version": 2
   },
   "file_extension": ".py",
   "mimetype": "text/x-python",
   "name": "python",
   "nbconvert_exporter": "python",
   "pygments_lexer": "ipython2",
   "version": "2.7.6"
  }
 },
 "nbformat": 4,
 "nbformat_minor": 5
}
